{
 "cells": [
  {
   "cell_type": "markdown",
   "metadata": {},
   "source": [
    "# Tłumaczenie działania funkcji `wygladz()` z pliku `synal.py`"
   ]
  },
  {
   "cell_type": "markdown",
   "metadata": {},
   "source": [
    "Funkcja musi liczyć średnią typu _running mean_, z zastrzeżeniem specjalnego zachowania na brzegach zakresu. Z komentarza dokumentacyjnego dostajemy takie warunki:"
   ]
  },
  {
   "cell_type": "code",
   "execution_count": null,
   "metadata": {},
   "outputs": [],
   "source": [
    "\"\"\"Wygładzanie sygnału filtrem uśredniającym.\n",
    "    Uwaga! Wartości na brzegach zakresu są wygładzane we fragmencie okna\n",
    "    znajdującym się nad zakresem, np. dla promienia 1 (długość okna 3):\n",
    "    [ 1 2 6 4 5]\n",
    "    [ 1.5 ]\n",
    "    [ 3 ]\n",
    "    [ 4 ]\n",
    "    [ 5 ]\n",
    "    [ 4.5 ]\n",
    "    Args:\n",
    "    sygnal (numpy.array): sygnał\n",
    "    promien (int): promien uśredniania (długość okna = 2 x promien + 1)\n",
    "    Returns:\n",
    "    numpy.array: wygładzony sygnał\n",
    "    Raises:\n",
    "    ValueError: jeśli podano ujemny promień\n",
    "    \"\"\""
   ]
  },
  {
   "cell_type": "markdown",
   "metadata": {},
   "source": [
    "## Argumenty wejściowe `sygnal` i `promien`\n",
    "Wystarczy dodać je w deklaracji funkcji:"
   ]
  },
  {
   "cell_type": "code",
   "execution_count": null,
   "metadata": {},
   "outputs": [],
   "source": [
    "def wygladz(sygnal, promien):\n",
    "    pass"
   ]
  },
  {
   "cell_type": "markdown",
   "metadata": {},
   "source": [
    "## Zwracanie `ValueError` w określonym momencie\n",
    "Tutaj należy sprawdzić warunek i podnieść error w przypadku jego spełnienia"
   ]
  },
  {
   "cell_type": "code",
   "execution_count": null,
   "metadata": {},
   "outputs": [],
   "source": [
    "if promien < 0:\n",
    "    raise ValueError(\"Promień nie powinien być ujemny\")"
   ]
  },
  {
   "cell_type": "markdown",
   "metadata": {},
   "source": [
    "## Wyliczanie wartości\n",
    "Najważniejszy element programu. W jego podstawowej wersji chcemy liczyć średnią z każdego kolejnego $n$ liczb, ale nie zawsze jest to możliwe. Rozważmy tablicę `[3, 2, 1, 0, 1, 2, 3]`. Podając promień równy $1$, na samym początku trafiamy na miejce gdzie możemy pójść o 1 w prawo, ale nie pójdziemy o 1 w lewo. Dlatego w takich miejscach musimy wziąć tyle z tego zakresu ile się da i policzyć średnią z tego.\n",
    "## Jak rozdzielić te przypadki?\n",
    "Zauważmy, że punkt, od którego możemy brać pełne zakresy (o szerokości 2 * `promien` + 1) ma zawsze indeks równy zmiennej `promien` (bo dopiero od takiej wartości możemy sięgnąć odpowiednio daleko na lewo). W przypadku końca tablicy, jesteśmy oddaleni od ostatniego indeksu również o promień. Jak to wygląda w kodzie?"
   ]
  },
  {
   "cell_type": "code",
   "execution_count": null,
   "metadata": {},
   "outputs": [],
   "source": [
    "        if i < promien:\n",
    "            # akcja 1\n",
    "        elif i > len(sygnal) - 1 - promien:\n",
    "            # akcja 2\n",
    "        else:\n",
    "            # akcja 3"
   ]
  },
  {
   "cell_type": "markdown",
   "metadata": {},
   "source": [
    "## Dalsza budowa kodu\n",
    "Musimy zwracać dane w tablicy `numpy` więc powinniśmy je do niej zapisać. Zainicjujmy ją:"
   ]
  },
  {
   "cell_type": "code",
   "execution_count": null,
   "metadata": {},
   "outputs": [],
   "source": [
    "# pamiętajmy o zaimportowaniu numpy\n",
    "import numpy as np\n",
    "\n",
    "tab = np.array([], dtype=\"float_\")\n",
    "\n",
    "okno = 2 * promien + 1"
   ]
  },
  {
   "cell_type": "markdown",
   "metadata": {},
   "source": [
    "Zauważmy, że `dtype` jest taki sam jak w tablicach w funkcjach testujących. Przy okazji w zmiennej `okno` umieszczamy szerokość okna średniej wyliczoną z promienia\n",
    "## Jak policzyć te średnie?\n",
    "Po 2h myślenia zdecydowałem, że najlepiej policzyć z pomocą sum cząstkowych tablic. Jak to działa? Sumy cząstkowe tablicy `[1, 2, 3, 4]` to `[1, 3, 6, 10]`. Każda kolejna liczba w tablicy sum to suma wszystkich liczb z pierwszej tablicy następująych do danego indeksu. Zatem w przypadku kiedy mamy za małe okienko z lewej strony, weźmiemy sumę pierwszych $n$ liczb i podzielimy przez ich ilość, w przypadku zakresu gdzie okno się mieści odejmiemy sumę z początku okna od sumy z końca okna i podzielimy przez szerokość okna, a na końcu postąpimy bardzo podobnie do początku. Zatem uzupełniamy nasz blok z instrukcjami `if`:"
   ]
  },
  {
   "cell_type": "code",
   "execution_count": null,
   "metadata": {},
   "outputs": [],
   "source": [
    "# najpierw liczymy sumy cząstkowe\n",
    "sumy_cz = np.cumsum(sygnal)\n",
    "\n",
    "# teraz wszystko trafia do pętli for bo chcemy takie sprawdzenie dla każdej liczby w tablicy\n",
    "for i in range(len(sygnal)): # ! dobra to jest tak rozjebane, że ci jupytera napiszę <- o tak zareagowałem\n",
    "    if i < promien:\n",
    "        tab = np.append(tab, sumy_cz[i + promien] / (i + promien + 1))\n",
    "    elif i > len(sygnal) - 1 - promien:\n",
    "        tab = np.append(tab, (sumy_cz[-1] - sumy_cz[i - (promien + 1)]) / (len(sygnal) - i + promien))\n",
    "    else:\n",
    "        tab = np.append(tab, np.average(sygnal[i - promien:(i + promien + 1)]))"
   ]
  },
  {
   "cell_type": "markdown",
   "metadata": {},
   "source": [
    "Konstrukcja `append` jest trochę inna niż w samym Pythonie. Musimy podać nazwę tablicy, do której chcemy zapisać tą tablicę, do której dopisujemy. Jeśli chcemy uzyskać taki efekt jak:"
   ]
  },
  {
   "cell_type": "code",
   "execution_count": null,
   "metadata": {},
   "outputs": [],
   "source": [
    "tab.append(x)"
   ]
  },
  {
   "cell_type": "markdown",
   "metadata": {},
   "source": [
    "Musimy zrobić:"
   ]
  },
  {
   "cell_type": "code",
   "execution_count": null,
   "metadata": {},
   "outputs": [],
   "source": [
    "tab = np.append(tab, x)"
   ]
  },
  {
   "cell_type": "markdown",
   "metadata": {},
   "source": [
    "## Ostatnie modyfikacje\n",
    "Teraz pozostało nam zwrócić wartość i sprawdzić czy w testach wszystko się zgadza. Zwracamy wartość:"
   ]
  },
  {
   "cell_type": "code",
   "execution_count": null,
   "metadata": {},
   "outputs": [],
   "source": [
    "return tab"
   ]
  },
  {
   "cell_type": "markdown",
   "metadata": {},
   "source": [
    "Uruchamiamy testy i mamy jeden błąd w teście, który wygląda następująco:"
   ]
  },
  {
   "cell_type": "code",
   "execution_count": null,
   "metadata": {},
   "outputs": [],
   "source": [
    "def test_wygladz_sygnal_za_duze_okno(prosty_sygnal):\n",
    "    wygladzony_sygnal = sygnal.wygladz(prosty_sygnal, 8)\n",
    "    assert (wygladzony_sygnal == np.mean(prosty_sygnal)).any()"
   ]
  },
  {
   "cell_type": "markdown",
   "metadata": {},
   "source": [
    "Oznacza to, że musimy się przygotować na sytuację kiedy ktoś wpisze promień tworzący za duże okno na cały zakres. Mamy wtedy zwrócić średnią wszystkich wartości w tablicy:"
   ]
  },
  {
   "cell_type": "code",
   "execution_count": null,
   "metadata": {},
   "outputs": [],
   "source": [
    "    if okno > len(sygnal) and len(sygnal) > 0: # funkcja np.mean nie działa kiedy sygnał jest pusty, stąd drugi warunek\n",
    "        return np.mean(sygnal)"
   ]
  },
  {
   "cell_type": "markdown",
   "metadata": {},
   "source": [
    "Teraz mamy już wszystko, nasz kod zdaje każdy test i wygląda następująco:"
   ]
  },
  {
   "cell_type": "code",
   "execution_count": null,
   "metadata": {},
   "outputs": [],
   "source": [
    "import numpy as np\n",
    "\n",
    "def wygladz(sygnal, promien):\n",
    "    if promien < 0:\n",
    "        raise ValueError(\"Promień nie powinien być ujemny\")\n",
    "    tab = np.array([], dtype=\"float_\")\n",
    "    okno = 2 * promien + 1\n",
    "    if okno > len(sygnal) and len(sygnal) > 0:\n",
    "        return np.mean(sygnal)\n",
    "    sumy_cz = np.cumsum(sygnal)\n",
    "    for i in range(len(sygnal)):\n",
    "        if i < promien:\n",
    "            tab = np.append(tab, sumy_cz[i + promien] / (i + promien + 1))\n",
    "        elif i > len(sygnal) - 1 - promien:\n",
    "            tab = np.append(tab, (sumy_cz[-1] - sumy_cz[i - (promien + 1)]) / (len(sygnal) - i + promien))\n",
    "        else:\n",
    "            tab = np.append(tab, np.average(sygnal[i - promien:(i + promien + 1)]))\n",
    "    return tab"
   ]
  },
  {
   "cell_type": "markdown",
   "metadata": {},
   "source": [
    "Jest 4:30, nie dam rady opisać tak drugiej funkcji bo jest dużo bardziej skurwiała."
   ]
  },
  {
   "cell_type": "markdown",
   "metadata": {},
   "source": [
    "[Link do całego kodu tego zadania i zadania 1](https://github.com/mathuntley/trash-can)"
   ]
  },
  {
   "cell_type": "code",
   "execution_count": null,
   "metadata": {},
   "outputs": [],
   "source": []
  }
 ],
 "metadata": {
  "kernelspec": {
   "display_name": "Python 3",
   "language": "python",
   "name": "python3"
  },
  "language_info": {
   "codemirror_mode": {
    "name": "ipython",
    "version": 3
   },
   "file_extension": ".py",
   "mimetype": "text/x-python",
   "name": "python",
   "nbconvert_exporter": "python",
   "pygments_lexer": "ipython3",
   "version": "3.6.13"
  }
 },
 "nbformat": 4,
 "nbformat_minor": 2
}
